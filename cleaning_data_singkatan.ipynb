{
 "cells": [
  {
   "cell_type": "code",
   "execution_count": 16,
   "id": "7f6332c0",
   "metadata": {},
   "outputs": [],
   "source": [
    "#prepare\n",
    "\n",
    "#DataFrame\n",
    "import pandas as pd\n",
    "\n",
    "#plotting\n",
    "import matplotlib.pyplot as plt\n",
    "import seaborn as sns\n",
    "\n",
    "#nltk\n",
    "import nltk\n",
    "from nltk.corpus import stopwords\n",
    "\n",
    "#tensorflow keras\n",
    "from keras.preprocessing.text import Tokenizer\n",
    "\n",
    "#utility\n",
    "import numpy as np\n",
    "import re"
   ]
  },
  {
   "cell_type": "code",
   "execution_count": 3,
   "id": "93d9ceb2",
   "metadata": {},
   "outputs": [
    {
     "data": {
      "text/plain": [
       "(1481, 2)"
      ]
     },
     "execution_count": 3,
     "metadata": {},
     "output_type": "execute_result"
    }
   ],
   "source": [
    "#read Dataset\n",
    "df = pd.read_csv(\"merger_data_bahasa_gaul.csv\")\n",
    "df.shape"
   ]
  },
  {
   "cell_type": "code",
   "execution_count": 4,
   "id": "b509dfde",
   "metadata": {},
   "outputs": [
    {
     "data": {
      "text/plain": [
       "Singkatan    0\n",
       "Kata         0\n",
       "dtype: int64"
      ]
     },
     "execution_count": 4,
     "metadata": {},
     "output_type": "execute_result"
    }
   ],
   "source": [
    "df.isnull().sum()"
   ]
  },
  {
   "cell_type": "code",
   "execution_count": 8,
   "id": "f8253ae3",
   "metadata": {},
   "outputs": [
    {
     "data": {
      "text/html": [
       "<div>\n",
       "<style scoped>\n",
       "    .dataframe tbody tr th:only-of-type {\n",
       "        vertical-align: middle;\n",
       "    }\n",
       "\n",
       "    .dataframe tbody tr th {\n",
       "        vertical-align: top;\n",
       "    }\n",
       "\n",
       "    .dataframe thead th {\n",
       "        text-align: right;\n",
       "    }\n",
       "</style>\n",
       "<table border=\"1\" class=\"dataframe\">\n",
       "  <thead>\n",
       "    <tr style=\"text-align: right;\">\n",
       "      <th></th>\n",
       "      <th>Singkatan</th>\n",
       "      <th>Kata</th>\n",
       "    </tr>\n",
       "  </thead>\n",
       "  <tbody>\n",
       "    <tr>\n",
       "      <th>0</th>\n",
       "      <td>7an</td>\n",
       "      <td>tujuan</td>\n",
       "    </tr>\n",
       "    <tr>\n",
       "      <th>1</th>\n",
       "      <td>@</td>\n",
       "      <td>di</td>\n",
       "    </tr>\n",
       "    <tr>\n",
       "      <th>2</th>\n",
       "      <td>ababil</td>\n",
       "      <td>abg labil</td>\n",
       "    </tr>\n",
       "    <tr>\n",
       "      <th>3</th>\n",
       "      <td>abis</td>\n",
       "      <td>habis</td>\n",
       "    </tr>\n",
       "    <tr>\n",
       "      <th>4</th>\n",
       "      <td>acc</td>\n",
       "      <td>accord</td>\n",
       "    </tr>\n",
       "    <tr>\n",
       "      <th>5</th>\n",
       "      <td>ad</td>\n",
       "      <td>ada</td>\n",
       "    </tr>\n",
       "    <tr>\n",
       "      <th>6</th>\n",
       "      <td>adlah</td>\n",
       "      <td>adalah</td>\n",
       "    </tr>\n",
       "    <tr>\n",
       "      <th>7</th>\n",
       "      <td>adlh</td>\n",
       "      <td>adalah</td>\n",
       "    </tr>\n",
       "    <tr>\n",
       "      <th>8</th>\n",
       "      <td>adoh</td>\n",
       "      <td>aduh</td>\n",
       "    </tr>\n",
       "    <tr>\n",
       "      <th>9</th>\n",
       "      <td>afaik</td>\n",
       "      <td>as far as i know</td>\n",
       "    </tr>\n",
       "  </tbody>\n",
       "</table>\n",
       "</div>"
      ],
      "text/plain": [
       "  Singkatan                       Kata\n",
       "0       7an                     tujuan\n",
       "1         @            di             \n",
       "2    ababil      abg labil            \n",
       "3      abis         habis             \n",
       "4       acc        accord             \n",
       "5        ad           ada             \n",
       "6     adlah        adalah             \n",
       "7      adlh        adalah             \n",
       "8      adoh          aduh             \n",
       "9     afaik  as far as i know         "
      ]
     },
     "execution_count": 8,
     "metadata": {},
     "output_type": "execute_result"
    }
   ],
   "source": [
    "df.head(10)"
   ]
  },
  {
   "cell_type": "code",
   "execution_count": 12,
   "id": "248b6578",
   "metadata": {},
   "outputs": [
    {
     "data": {
      "text/html": [
       "<div>\n",
       "<style scoped>\n",
       "    .dataframe tbody tr th:only-of-type {\n",
       "        vertical-align: middle;\n",
       "    }\n",
       "\n",
       "    .dataframe tbody tr th {\n",
       "        vertical-align: top;\n",
       "    }\n",
       "\n",
       "    .dataframe thead th {\n",
       "        text-align: right;\n",
       "    }\n",
       "</style>\n",
       "<table border=\"1\" class=\"dataframe\">\n",
       "  <thead>\n",
       "    <tr style=\"text-align: right;\">\n",
       "      <th></th>\n",
       "      <th>Singkatan</th>\n",
       "      <th>Kata</th>\n",
       "    </tr>\n",
       "  </thead>\n",
       "  <tbody>\n",
       "    <tr>\n",
       "      <th>1451</th>\n",
       "      <td>fyp</td>\n",
       "      <td>for your page (halaman untuk anda)</td>\n",
       "    </tr>\n",
       "    <tr>\n",
       "      <th>1452</th>\n",
       "      <td>get back</td>\n",
       "      <td>kembali</td>\n",
       "    </tr>\n",
       "    <tr>\n",
       "      <th>1453</th>\n",
       "      <td>glow up</td>\n",
       "      <td>Perubahan fisik atau mental yang menjadi lebih...</td>\n",
       "    </tr>\n",
       "    <tr>\n",
       "      <th>1454</th>\n",
       "      <td>hectic</td>\n",
       "      <td>sibuk</td>\n",
       "    </tr>\n",
       "    <tr>\n",
       "      <th>1455</th>\n",
       "      <td>hence</td>\n",
       "      <td>oleh karena itu, oleh sebab itu</td>\n",
       "    </tr>\n",
       "    <tr>\n",
       "      <th>1456</th>\n",
       "      <td>idc</td>\n",
       "      <td>i dont care (saya tidak peduli)</td>\n",
       "    </tr>\n",
       "    <tr>\n",
       "      <th>1457</th>\n",
       "      <td>idk</td>\n",
       "      <td>saya tidak tahu</td>\n",
       "    </tr>\n",
       "    <tr>\n",
       "      <th>1458</th>\n",
       "      <td>improvement</td>\n",
       "      <td>peningkatan</td>\n",
       "    </tr>\n",
       "    <tr>\n",
       "      <th>1459</th>\n",
       "      <td>income</td>\n",
       "      <td>pendapatan</td>\n",
       "    </tr>\n",
       "    <tr>\n",
       "      <th>1460</th>\n",
       "      <td>revenue</td>\n",
       "      <td>pendapatan</td>\n",
       "    </tr>\n",
       "    <tr>\n",
       "      <th>1461</th>\n",
       "      <td>let's say</td>\n",
       "      <td>katakanlah</td>\n",
       "    </tr>\n",
       "    <tr>\n",
       "      <th>1462</th>\n",
       "      <td>like-unlike</td>\n",
       "      <td>seperti-tidak seperti</td>\n",
       "    </tr>\n",
       "    <tr>\n",
       "      <th>1463</th>\n",
       "      <td>little</td>\n",
       "      <td>kecil</td>\n",
       "    </tr>\n",
       "    <tr>\n",
       "      <th>1464</th>\n",
       "      <td>Cepmek</td>\n",
       "      <td>Cepak mekar (Model potongan rambut cepak/pende...</td>\n",
       "    </tr>\n",
       "    <tr>\n",
       "      <th>1465</th>\n",
       "      <td>Rungkad</td>\n",
       "      <td>rungkad berasal dari bahasa sunda. arti rungka...</td>\n",
       "    </tr>\n",
       "    <tr>\n",
       "      <th>1466</th>\n",
       "      <td>Shibal</td>\n",
       "      <td>Shibal kosakata berasal dari Korea, Arti sibal...</td>\n",
       "    </tr>\n",
       "    <tr>\n",
       "      <th>1467</th>\n",
       "      <td>klebus</td>\n",
       "      <td>basah kuyup (terkena air)</td>\n",
       "    </tr>\n",
       "    <tr>\n",
       "      <th>1468</th>\n",
       "      <td>kok iso yo</td>\n",
       "      <td>kok bisa ya</td>\n",
       "    </tr>\n",
       "    <tr>\n",
       "      <th>1469</th>\n",
       "      <td>teteg ati</td>\n",
       "      <td>ketegaran hati</td>\n",
       "    </tr>\n",
       "    <tr>\n",
       "      <th>1470</th>\n",
       "      <td>ojo dibandingke</td>\n",
       "      <td>jangan dibandingkan</td>\n",
       "    </tr>\n",
       "    <tr>\n",
       "      <th>1471</th>\n",
       "      <td>slay</td>\n",
       "      <td>Dalam kamus bahasa Inggris, Slay mempunyai art...</td>\n",
       "    </tr>\n",
       "    <tr>\n",
       "      <th>1472</th>\n",
       "      <td>purel</td>\n",
       "      <td>wanita penghibur / kupu kupu malam</td>\n",
       "    </tr>\n",
       "    <tr>\n",
       "      <th>1473</th>\n",
       "      <td>mangku purel</td>\n",
       "      <td>memangku kupu kupu malam / wanita penghibur</td>\n",
       "    </tr>\n",
       "    <tr>\n",
       "      <th>1474</th>\n",
       "      <td>new year new me</td>\n",
       "      <td>tahun baru (dan) aku yang baru. Makna Arti kat...</td>\n",
       "    </tr>\n",
       "    <tr>\n",
       "      <th>1475</th>\n",
       "      <td>1per365</td>\n",
       "      <td>1/365 adalah 1 dari 365 hari dalam satu tahun ...</td>\n",
       "    </tr>\n",
       "    <tr>\n",
       "      <th>1476</th>\n",
       "      <td>mixue</td>\n",
       "      <td>Mixue berasal bahasa China yang terdiri dari d...</td>\n",
       "    </tr>\n",
       "    <tr>\n",
       "      <th>1477</th>\n",
       "      <td>323</td>\n",
       "      <td>3 adalah E, 2 adalah W, 3 adalah E, jadi arti ...</td>\n",
       "    </tr>\n",
       "    <tr>\n",
       "      <th>1478</th>\n",
       "      <td>asbsm</td>\n",
       "      <td>aku sayang banget sama mu</td>\n",
       "    </tr>\n",
       "    <tr>\n",
       "      <th>1479</th>\n",
       "      <td>my shampoo and conditioner ran out at the same...</td>\n",
       "      <td>seseorang yang sudah di kondisi lelah dalam me...</td>\n",
       "    </tr>\n",
       "    <tr>\n",
       "      <th>1480</th>\n",
       "      <td>pardon me</td>\n",
       "      <td>sorry, excuse me, dan pardon me merupakan kata...</td>\n",
       "    </tr>\n",
       "  </tbody>\n",
       "</table>\n",
       "</div>"
      ],
      "text/plain": [
       "                                              Singkatan  \\\n",
       "1451                                                fyp   \n",
       "1452                                           get back   \n",
       "1453                                            glow up   \n",
       "1454                                             hectic   \n",
       "1455                                              hence   \n",
       "1456                                                idc   \n",
       "1457                                                idk   \n",
       "1458                                        improvement   \n",
       "1459                                             income   \n",
       "1460                                            revenue   \n",
       "1461                                          let's say   \n",
       "1462                                        like-unlike   \n",
       "1463                                             little   \n",
       "1464                                             Cepmek   \n",
       "1465                                            Rungkad   \n",
       "1466                                             Shibal   \n",
       "1467                                             klebus   \n",
       "1468                                         kok iso yo   \n",
       "1469                                          teteg ati   \n",
       "1470                                    ojo dibandingke   \n",
       "1471                                               slay   \n",
       "1472                                              purel   \n",
       "1473                                       mangku purel   \n",
       "1474                                    new year new me   \n",
       "1475                                            1per365   \n",
       "1476                                              mixue   \n",
       "1477                                                323   \n",
       "1478                                              asbsm   \n",
       "1479  my shampoo and conditioner ran out at the same...   \n",
       "1480                                          pardon me   \n",
       "\n",
       "                                                   Kata  \n",
       "1451                 for your page (halaman untuk anda)  \n",
       "1452                                            kembali  \n",
       "1453  Perubahan fisik atau mental yang menjadi lebih...  \n",
       "1454                                              sibuk  \n",
       "1455                    oleh karena itu, oleh sebab itu  \n",
       "1456                    i dont care (saya tidak peduli)  \n",
       "1457                         saya tidak tahu             \n",
       "1458                                        peningkatan  \n",
       "1459                                         pendapatan  \n",
       "1460                                         pendapatan  \n",
       "1461                                         katakanlah  \n",
       "1462                              seperti-tidak seperti  \n",
       "1463                                              kecil  \n",
       "1464  Cepak mekar (Model potongan rambut cepak/pende...  \n",
       "1465  rungkad berasal dari bahasa sunda. arti rungka...  \n",
       "1466  Shibal kosakata berasal dari Korea, Arti sibal...  \n",
       "1467                          basah kuyup (terkena air)  \n",
       "1468                                        kok bisa ya  \n",
       "1469                                     ketegaran hati  \n",
       "1470                                jangan dibandingkan  \n",
       "1471  Dalam kamus bahasa Inggris, Slay mempunyai art...  \n",
       "1472                 wanita penghibur / kupu kupu malam  \n",
       "1473        memangku kupu kupu malam / wanita penghibur  \n",
       "1474  tahun baru (dan) aku yang baru. Makna Arti kat...  \n",
       "1475  1/365 adalah 1 dari 365 hari dalam satu tahun ...  \n",
       "1476  Mixue berasal bahasa China yang terdiri dari d...  \n",
       "1477  3 adalah E, 2 adalah W, 3 adalah E, jadi arti ...  \n",
       "1478                          aku sayang banget sama mu  \n",
       "1479  seseorang yang sudah di kondisi lelah dalam me...  \n",
       "1480  sorry, excuse me, dan pardon me merupakan kata...  "
      ]
     },
     "execution_count": 12,
     "metadata": {},
     "output_type": "execute_result"
    }
   ],
   "source": [
    "df.tail(30)"
   ]
  },
  {
   "cell_type": "code",
   "execution_count": 52,
   "id": "44444f07",
   "metadata": {},
   "outputs": [
    {
     "name": "stdout",
     "output_type": "stream",
     "text": [
      "1\n"
     ]
    }
   ],
   "source": [
    "text = \"train.\"\n",
    "print(len(text.split()))"
   ]
  },
  {
   "cell_type": "code",
   "execution_count": null,
   "id": "c700e409",
   "metadata": {},
   "outputs": [],
   "source": []
  },
  {
   "cell_type": "code",
   "execution_count": 41,
   "id": "fe16f0bb",
   "metadata": {},
   "outputs": [
    {
     "name": "stdout",
     "output_type": "stream",
     "text": [
      "1463\n"
     ]
    }
   ],
   "source": [
    "singkatan_arr = []\n",
    "kata_arr = []\n",
    "y = 0\n",
    "for x in df.index:\n",
    "    if len(df.loc[x,'Singkatan'].split()) == 1:\n",
    "        singkatan_arr.append(df.loc[x,'Singkatan'])\n",
    "        kata_arr.append(df.loc[x,'Kata'])\n",
    "        y +=1\n",
    "print(y)"
   ]
  },
  {
   "cell_type": "code",
   "execution_count": 36,
   "id": "ba1619ab",
   "metadata": {},
   "outputs": [
    {
     "name": "stdout",
     "output_type": "stream",
     "text": [
      "2\n"
     ]
    }
   ],
   "source": [
    "print(len(df.loc[1480,'Singkatan'].split()))"
   ]
  },
  {
   "cell_type": "code",
   "execution_count": 35,
   "id": "b3a09c65",
   "metadata": {},
   "outputs": [
    {
     "data": {
      "text/html": [
       "<div>\n",
       "<style scoped>\n",
       "    .dataframe tbody tr th:only-of-type {\n",
       "        vertical-align: middle;\n",
       "    }\n",
       "\n",
       "    .dataframe tbody tr th {\n",
       "        vertical-align: top;\n",
       "    }\n",
       "\n",
       "    .dataframe thead th {\n",
       "        text-align: right;\n",
       "    }\n",
       "</style>\n",
       "<table border=\"1\" class=\"dataframe\">\n",
       "  <thead>\n",
       "    <tr style=\"text-align: right;\">\n",
       "      <th></th>\n",
       "      <th>Singkatan</th>\n",
       "      <th>Kata</th>\n",
       "    </tr>\n",
       "  </thead>\n",
       "  <tbody>\n",
       "    <tr>\n",
       "      <th>1476</th>\n",
       "      <td>mixue</td>\n",
       "      <td>Mixue berasal bahasa China yang terdiri dari d...</td>\n",
       "    </tr>\n",
       "    <tr>\n",
       "      <th>1477</th>\n",
       "      <td>323</td>\n",
       "      <td>3 adalah E, 2 adalah W, 3 adalah E, jadi arti ...</td>\n",
       "    </tr>\n",
       "    <tr>\n",
       "      <th>1478</th>\n",
       "      <td>asbsm</td>\n",
       "      <td>aku sayang banget sama mu</td>\n",
       "    </tr>\n",
       "    <tr>\n",
       "      <th>1479</th>\n",
       "      <td>my shampoo and conditioner ran out at the same...</td>\n",
       "      <td>seseorang yang sudah di kondisi lelah dalam me...</td>\n",
       "    </tr>\n",
       "    <tr>\n",
       "      <th>1480</th>\n",
       "      <td>pardon me</td>\n",
       "      <td>sorry, excuse me, dan pardon me merupakan kata...</td>\n",
       "    </tr>\n",
       "  </tbody>\n",
       "</table>\n",
       "</div>"
      ],
      "text/plain": [
       "                                              Singkatan  \\\n",
       "1476                                              mixue   \n",
       "1477                                                323   \n",
       "1478                                              asbsm   \n",
       "1479  my shampoo and conditioner ran out at the same...   \n",
       "1480                                          pardon me   \n",
       "\n",
       "                                                   Kata  \n",
       "1476  Mixue berasal bahasa China yang terdiri dari d...  \n",
       "1477  3 adalah E, 2 adalah W, 3 adalah E, jadi arti ...  \n",
       "1478                          aku sayang banget sama mu  \n",
       "1479  seseorang yang sudah di kondisi lelah dalam me...  \n",
       "1480  sorry, excuse me, dan pardon me merupakan kata...  "
      ]
     },
     "execution_count": 35,
     "metadata": {},
     "output_type": "execute_result"
    }
   ],
   "source": [
    "df.tail()"
   ]
  },
  {
   "cell_type": "code",
   "execution_count": 42,
   "id": "f1a1c6f5",
   "metadata": {},
   "outputs": [
    {
     "data": {
      "text/plain": [
       "(1463, 2)"
      ]
     },
     "execution_count": 42,
     "metadata": {},
     "output_type": "execute_result"
    }
   ],
   "source": [
    "new_df = pd.DataFrame({\n",
    "    \"singkatan\": singkatan_arr,\n",
    "    \"kata\": kata_arr})\n",
    "\n",
    "new_df.shape"
   ]
  },
  {
   "cell_type": "code",
   "execution_count": 51,
   "id": "7697f4cc",
   "metadata": {},
   "outputs": [
    {
     "name": "stdout",
     "output_type": "stream",
     "text": [
      "utk\n"
     ]
    }
   ],
   "source": [
    "for x in new_df.index:\n",
    "    if new_df.loc[x, 'singkatan'] == \"utk\":\n",
    "        print(new_df.loc[x,'singkatan'])"
   ]
  },
  {
   "cell_type": "code",
   "execution_count": 53,
   "id": "a4aa6d79",
   "metadata": {},
   "outputs": [],
   "source": [
    "new_df =df.to_csv(\"singkatan_1_kata.csv\",index = False)"
   ]
  },
  {
   "cell_type": "code",
   "execution_count": null,
   "id": "85df80eb",
   "metadata": {},
   "outputs": [],
   "source": []
  }
 ],
 "metadata": {
  "kernelspec": {
   "display_name": "Python 3 (ipykernel)",
   "language": "python",
   "name": "python3"
  },
  "language_info": {
   "codemirror_mode": {
    "name": "ipython",
    "version": 3
   },
   "file_extension": ".py",
   "mimetype": "text/x-python",
   "name": "python",
   "nbconvert_exporter": "python",
   "pygments_lexer": "ipython3",
   "version": "3.9.6"
  }
 },
 "nbformat": 4,
 "nbformat_minor": 5
}
